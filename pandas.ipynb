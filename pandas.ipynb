{
 "cells": [
  {
   "cell_type": "code",
   "execution_count": 30,
   "metadata": {},
   "outputs": [],
   "source": [
    "#Data structures\n",
    "import pandas as pd\n",
    "import numpy as np\n"
   ]
  },
  {
   "cell_type": "code",
   "execution_count": 16,
   "metadata": {},
   "outputs": [
    {
     "data": {
      "text/plain": [
       "pandas.core.series.Series"
      ]
     },
     "execution_count": 16,
     "metadata": {},
     "output_type": "execute_result"
    }
   ],
   "source": [
    "#Series\n",
    "# converting tuple to Series\n",
    "h = ('AA', '2012-02-01', 100, 10.2)\n",
    "s = pd.Series(h)\n",
    "type(s)"
   ]
  },
  {
   "cell_type": "code",
   "execution_count": 17,
   "metadata": {},
   "outputs": [
    {
     "name": "stdout",
     "output_type": "stream",
     "text": [
      "0            AA\n",
      "1    2012-02-01\n",
      "2           100\n",
      "3          10.2\n",
      "dtype: object\n"
     ]
    }
   ],
   "source": [
    "print(s)"
   ]
  },
  {
   "cell_type": "code",
   "execution_count": 18,
   "metadata": {},
   "outputs": [
    {
     "data": {
      "text/plain": [
       "pandas.core.series.Series"
      ]
     },
     "execution_count": 18,
     "metadata": {},
     "output_type": "execute_result"
    }
   ],
   "source": [
    "# converting dict to Series\n",
    "d = {'name' : 'IBM', 'date' : '2010-09-08', 'shares' : 100, 'price' : 10.2}\n",
    "ds = pd.Series(d)\n",
    "type(ds)"
   ]
  },
  {
   "cell_type": "code",
   "execution_count": 19,
   "metadata": {},
   "outputs": [
    {
     "name": "stdout",
     "output_type": "stream",
     "text": [
      "name             IBM\n",
      "date      2010-09-08\n",
      "shares           100\n",
      "price           10.2\n",
      "dtype: object\n"
     ]
    }
   ],
   "source": [
    "print(ds)"
   ]
  },
  {
   "cell_type": "code",
   "execution_count": 20,
   "metadata": {},
   "outputs": [
    {
     "name": "stdout",
     "output_type": "stream",
     "text": [
      "name              FB\n",
      "date      2001-08-02\n",
      "shares            90\n",
      "price            3.2\n",
      "dtype: object\n"
     ]
    }
   ],
   "source": [
    "f = ['FB', '2001-08-02', 90, 3.2]\n",
    "f = pd.Series(f, index = ['name', 'date', 'shares', 'price'])\n",
    "print(f)"
   ]
  },
  {
   "cell_type": "code",
   "execution_count": 21,
   "metadata": {},
   "outputs": [
    {
     "data": {
      "text/plain": [
       "90"
      ]
     },
     "execution_count": 21,
     "metadata": {},
     "output_type": "execute_result"
    }
   ],
   "source": [
    "f['shares']"
   ]
  },
  {
   "cell_type": "code",
   "execution_count": 22,
   "metadata": {},
   "outputs": [
    {
     "data": {
      "text/plain": [
       "'FB'"
      ]
     },
     "execution_count": 22,
     "metadata": {},
     "output_type": "execute_result"
    }
   ],
   "source": [
    "f[0]"
   ]
  },
  {
   "cell_type": "code",
   "execution_count": 23,
   "metadata": {},
   "outputs": [
    {
     "data": {
      "text/plain": [
       "shares     90\n",
       "price     3.2\n",
       "dtype: object"
      ]
     },
     "execution_count": 23,
     "metadata": {},
     "output_type": "execute_result"
    }
   ],
   "source": [
    "f[['shares', 'price']]"
   ]
  },
  {
   "cell_type": "code",
   "execution_count": 27,
   "metadata": {},
   "outputs": [
    {
     "name": "stdout",
     "output_type": "stream",
     "text": [
      "0    50\n",
      "1    50\n",
      "2    50\n",
      "3    50\n",
      "4    50\n",
      "dtype: int64\n"
     ]
    }
   ],
   "source": [
    "#Day 8\n",
    "#Creating series from scalar\n",
    "s = pd.Series(50, index=[0,1,2,3,4])\n",
    "print(s)\n"
   ]
  },
  {
   "cell_type": "code",
   "execution_count": 28,
   "metadata": {},
   "outputs": [
    {
     "name": "stdout",
     "output_type": "stream",
     "text": [
      "To multiply all values in the series by 2\n",
      "------------------------------------------\n",
      "0     2\n",
      "1     4\n",
      "2     6\n",
      "3     8\n",
      "4    10\n",
      "dtype: int64\n",
      "To find the square of all values in the series\n",
      "------------------------------------------\n",
      "0     1\n",
      "1     4\n",
      "2     9\n",
      "3    16\n",
      "4    25\n",
      "dtype: int64\n",
      "To print all values in a series that are greater than 2\n",
      "------------------------------------------\n",
      "2    3\n",
      "3    4\n",
      "4    5\n",
      "dtype: int64\n"
     ]
    }
   ],
   "source": [
    "#Mathematical Operations in Series\n",
    "s = pd.Series([1,2,3,4,5])\n",
    "print(\"To multiply all values in the series by 2\")\n",
    "print(\"------------------------------------------\")\n",
    "print(s*2)\n",
    "print(\"To find the square of all values in the series\")\n",
    "print(\"------------------------------------------\")\n",
    "print(s**2)\n",
    "print(\"To print all values in a series that are greater than 2\")\n",
    "print(\"------------------------------------------\")\n",
    "print(s[s>2])\n",
    "\n"
   ]
  },
  {
   "cell_type": "code",
   "execution_count": 29,
   "metadata": {},
   "outputs": [
    {
     "name": "stdout",
     "output_type": "stream",
     "text": [
      "To add Series1 & series2\n",
      "------------------------------------------\n",
      "a    11\n",
      "b    22\n",
      "c    33\n",
      "d    44\n",
      "e    55\n",
      "dtype: int64\n",
      "To add Series2 & series3\n",
      "------------------------------------------\n",
      "a    15.0\n",
      "b    34.0\n",
      "c    53.0\n",
      "d    72.0\n",
      "e     NaN\n",
      "dtype: float64\n",
      "To add Series2 & series3 and Filled Non Matching Index with 0\n",
      "------------------------------------------\n",
      "a    15.0\n",
      "b    34.0\n",
      "c    53.0\n",
      "d    72.0\n",
      "e    50.0\n",
      "dtype: float64\n"
     ]
    }
   ],
   "source": [
    "s1 = pd.Series([1,2,3,4,5], index= ['a','b','c','d','e'])\n",
    "s2 = pd.Series([10,20,30,40,50], index= ['a','b','c','d','e'])\n",
    "s3 = pd.Series([5,14,23,32], index= ['a','b','c','d'])\n",
    "print(\"To add Series1 & series2\")\n",
    "print(\"------------------------------------------\")\n",
    "print(s1+s2)\n",
    "print(\"To add Series2 & series3\")\n",
    "print(\"------------------------------------------\")\n",
    "print(s2+s3)\n",
    "print(\"To add Series2 & series3 and Filled Non Matching Index with 0\")\n",
    "print(\"------------------------------------------\")\n",
    "print(s2.add(s3,fill_value=0))\n",
    "\n",
    "\n"
   ]
  },
  {
   "cell_type": "code",
   "execution_count": 36,
   "metadata": {},
   "outputs": [
    {
     "name": "stdout",
     "output_type": "stream",
     "text": [
      "0    10\n",
      "1    15\n",
      "2    18\n",
      "3    22\n",
      "4    55\n",
      "5    77\n",
      "dtype: int32\n",
      "------------------------\n",
      "0    10\n",
      "1    15\n",
      "2    18\n",
      "dtype: int32\n",
      "0    10\n",
      "1    15\n",
      "dtype: int32\n",
      "------------------------\n",
      "3    22\n",
      "4    55\n",
      "dtype: int32\n",
      "3    22\n",
      "dtype: int32\n",
      "------------------------\n",
      "------------------------\n",
      "15\n",
      "\n",
      "\n",
      "3    22\n",
      "dtype: int32\n"
     ]
    },
    {
     "data": {
      "text/plain": [
       "0    10\n",
       "1    15\n",
       "2    18\n",
       "dtype: int32"
      ]
     },
     "execution_count": 36,
     "metadata": {},
     "output_type": "execute_result"
    }
   ],
   "source": [
    "#selecting in series\n",
    "arr = np.array([10,15,18,22,55,77])\n",
    "s = pd.Series(arr)\n",
    "print(s)\n",
    "print(\"------------------------\")\n",
    "print(s.loc[:2])\n",
    "print(s.iloc[:2])\n",
    "\n",
    "print(\"------------------------\")\n",
    "print(s.loc[3:4])\n",
    "print(s.iloc[3:4])\n",
    "print(\"------------------------\")\n",
    "s.loc[2:3]\n",
    "print(\"------------------------\")\n",
    "s.iloc[2:3]\n",
    "print(s[1])\n",
    "print(\"\\n\")\n",
    "print(s[3:4])\n",
    "s[:3]\n",
    "\n"
   ]
  },
  {
   "cell_type": "code",
   "execution_count": 37,
   "metadata": {},
   "outputs": [
    {
     "name": "stdout",
     "output_type": "stream",
     "text": [
      "first     a\n",
      "second    b\n",
      "third     c\n",
      "fourth    d\n",
      "dtype: object\n",
      "\n",
      " indexes in Series are:::\n"
     ]
    },
    {
     "data": {
      "text/plain": [
       "Index(['first', 'second', 'third', 'fourth'], dtype='object')"
      ]
     },
     "execution_count": 37,
     "metadata": {},
     "output_type": "execute_result"
    }
   ],
   "source": [
    "#Indexing in Series\n",
    "arr= np.array(['a','b','c','d'])\n",
    "s = pd.Series(arr,index=['first','second','third','fourth'])\n",
    "print(s)\n",
    "#To print only indexes in series\n",
    "print('\\n indexes in Series are:::')\n",
    "s.index"
   ]
  },
  {
   "cell_type": "code",
   "execution_count": 39,
   "metadata": {},
   "outputs": [
    {
     "name": "stdout",
     "output_type": "stream",
     "text": [
      "A    10\n",
      "B    15\n",
      "C    18\n",
      "D    22\n",
      "E    55\n",
      "F    77\n",
      "dtype: int32\n",
      "B    15\n",
      "D    22\n",
      "dtype: int32\n",
      "A    10\n",
      "C    18\n",
      "E    55\n",
      "dtype: int32\n"
     ]
    }
   ],
   "source": [
    "#Slicing in Series\n",
    "arr = np.array([10,15,18,22,55,77])\n",
    "s = pd.Series(arr, index=['A','B','C','D','E','F'])\n",
    "print(s)\n",
    "print(s[1:5:2])\n",
    "print(s[0:6:2])\n"
   ]
  },
  {
   "cell_type": "code",
   "execution_count": 42,
   "metadata": {},
   "outputs": [
    {
     "data": {
      "text/plain": [
       "pandas.core.frame.DataFrame"
      ]
     },
     "execution_count": 42,
     "metadata": {},
     "output_type": "execute_result"
    }
   ],
   "source": [
    "#Dataframes\n",
    "data = { 'name' : ['AA', 'IBM', 'GOOG'],\n",
    "'date' : ['2001-12-01', '2012-02-10', '2010-04-09'],\n",
    "'shares' : [100, 30, 90],\n",
    "'price' : [12.3, 10.3, 32.2]\n",
    "}\n",
    "df = pd.DataFrame(data)\n",
    "type(df)\n"
   ]
  },
  {
   "cell_type": "code",
   "execution_count": 43,
   "metadata": {},
   "outputs": [
    {
     "data": {
      "text/html": [
       "<div>\n",
       "<style scoped>\n",
       "    .dataframe tbody tr th:only-of-type {\n",
       "        vertical-align: middle;\n",
       "    }\n",
       "\n",
       "    .dataframe tbody tr th {\n",
       "        vertical-align: top;\n",
       "    }\n",
       "\n",
       "    .dataframe thead th {\n",
       "        text-align: right;\n",
       "    }\n",
       "</style>\n",
       "<table border=\"1\" class=\"dataframe\">\n",
       "  <thead>\n",
       "    <tr style=\"text-align: right;\">\n",
       "      <th></th>\n",
       "      <th>name</th>\n",
       "      <th>date</th>\n",
       "      <th>shares</th>\n",
       "      <th>price</th>\n",
       "    </tr>\n",
       "  </thead>\n",
       "  <tbody>\n",
       "    <tr>\n",
       "      <th>0</th>\n",
       "      <td>AA</td>\n",
       "      <td>2001-12-01</td>\n",
       "      <td>100</td>\n",
       "      <td>12.3</td>\n",
       "    </tr>\n",
       "    <tr>\n",
       "      <th>1</th>\n",
       "      <td>IBM</td>\n",
       "      <td>2012-02-10</td>\n",
       "      <td>30</td>\n",
       "      <td>10.3</td>\n",
       "    </tr>\n",
       "    <tr>\n",
       "      <th>2</th>\n",
       "      <td>GOOG</td>\n",
       "      <td>2010-04-09</td>\n",
       "      <td>90</td>\n",
       "      <td>32.2</td>\n",
       "    </tr>\n",
       "  </tbody>\n",
       "</table>\n",
       "</div>"
      ],
      "text/plain": [
       "   name        date  shares  price\n",
       "0    AA  2001-12-01     100   12.3\n",
       "1   IBM  2012-02-10      30   10.3\n",
       "2  GOOG  2010-04-09      90   32.2"
      ]
     },
     "execution_count": 43,
     "metadata": {},
     "output_type": "execute_result"
    }
   ],
   "source": [
    "df"
   ]
  },
  {
   "cell_type": "code",
   "execution_count": 46,
   "metadata": {},
   "outputs": [
    {
     "data": {
      "text/html": [
       "<div>\n",
       "<style scoped>\n",
       "    .dataframe tbody tr th:only-of-type {\n",
       "        vertical-align: middle;\n",
       "    }\n",
       "\n",
       "    .dataframe tbody tr th {\n",
       "        vertical-align: top;\n",
       "    }\n",
       "\n",
       "    .dataframe thead th {\n",
       "        text-align: right;\n",
       "    }\n",
       "</style>\n",
       "<table border=\"1\" class=\"dataframe\">\n",
       "  <thead>\n",
       "    <tr style=\"text-align: right;\">\n",
       "      <th></th>\n",
       "      <th>name</th>\n",
       "      <th>date</th>\n",
       "      <th>shares</th>\n",
       "      <th>price</th>\n",
       "      <th>owner</th>\n",
       "    </tr>\n",
       "  </thead>\n",
       "  <tbody>\n",
       "    <tr>\n",
       "      <th>0</th>\n",
       "      <td>AA</td>\n",
       "      <td>2001-12-01</td>\n",
       "      <td>100</td>\n",
       "      <td>12.3</td>\n",
       "      <td>Unknown</td>\n",
       "    </tr>\n",
       "    <tr>\n",
       "      <th>1</th>\n",
       "      <td>IBM</td>\n",
       "      <td>2012-02-10</td>\n",
       "      <td>30</td>\n",
       "      <td>10.3</td>\n",
       "      <td>Unknown</td>\n",
       "    </tr>\n",
       "    <tr>\n",
       "      <th>2</th>\n",
       "      <td>GOOG</td>\n",
       "      <td>2010-04-09</td>\n",
       "      <td>90</td>\n",
       "      <td>32.2</td>\n",
       "      <td>Unknown</td>\n",
       "    </tr>\n",
       "  </tbody>\n",
       "</table>\n",
       "</div>"
      ],
      "text/plain": [
       "   name        date  shares  price    owner\n",
       "0    AA  2001-12-01     100   12.3  Unknown\n",
       "1   IBM  2012-02-10      30   10.3  Unknown\n",
       "2  GOOG  2010-04-09      90   32.2  Unknown"
      ]
     },
     "execution_count": 46,
     "metadata": {},
     "output_type": "execute_result"
    }
   ],
   "source": [
    "df['owner']= 'Unknown'\n",
    "df"
   ]
  },
  {
   "cell_type": "code",
   "execution_count": 47,
   "metadata": {},
   "outputs": [
    {
     "data": {
      "text/html": [
       "<div>\n",
       "<style scoped>\n",
       "    .dataframe tbody tr th:only-of-type {\n",
       "        vertical-align: middle;\n",
       "    }\n",
       "\n",
       "    .dataframe tbody tr th {\n",
       "        vertical-align: top;\n",
       "    }\n",
       "\n",
       "    .dataframe thead th {\n",
       "        text-align: right;\n",
       "    }\n",
       "</style>\n",
       "<table border=\"1\" class=\"dataframe\">\n",
       "  <thead>\n",
       "    <tr style=\"text-align: right;\">\n",
       "      <th></th>\n",
       "      <th>name</th>\n",
       "      <th>date</th>\n",
       "      <th>shares</th>\n",
       "      <th>price</th>\n",
       "      <th>owner</th>\n",
       "    </tr>\n",
       "  </thead>\n",
       "  <tbody>\n",
       "    <tr>\n",
       "      <th>one</th>\n",
       "      <td>AA</td>\n",
       "      <td>2001-12-01</td>\n",
       "      <td>100</td>\n",
       "      <td>12.3</td>\n",
       "      <td>Unknown</td>\n",
       "    </tr>\n",
       "    <tr>\n",
       "      <th>two</th>\n",
       "      <td>IBM</td>\n",
       "      <td>2012-02-10</td>\n",
       "      <td>30</td>\n",
       "      <td>10.3</td>\n",
       "      <td>Unknown</td>\n",
       "    </tr>\n",
       "    <tr>\n",
       "      <th>three</th>\n",
       "      <td>GOOG</td>\n",
       "      <td>2010-04-09</td>\n",
       "      <td>90</td>\n",
       "      <td>32.2</td>\n",
       "      <td>Unknown</td>\n",
       "    </tr>\n",
       "  </tbody>\n",
       "</table>\n",
       "</div>"
      ],
      "text/plain": [
       "       name        date  shares  price    owner\n",
       "one      AA  2001-12-01     100   12.3  Unknown\n",
       "two     IBM  2012-02-10      30   10.3  Unknown\n",
       "three  GOOG  2010-04-09      90   32.2  Unknown"
      ]
     },
     "execution_count": 47,
     "metadata": {},
     "output_type": "execute_result"
    }
   ],
   "source": [
    "df.index=['one','two','three']\n",
    "df"
   ]
  },
  {
   "cell_type": "code",
   "execution_count": 48,
   "metadata": {},
   "outputs": [
    {
     "data": {
      "text/html": [
       "<div>\n",
       "<style scoped>\n",
       "    .dataframe tbody tr th:only-of-type {\n",
       "        vertical-align: middle;\n",
       "    }\n",
       "\n",
       "    .dataframe tbody tr th {\n",
       "        vertical-align: top;\n",
       "    }\n",
       "\n",
       "    .dataframe thead th {\n",
       "        text-align: right;\n",
       "    }\n",
       "</style>\n",
       "<table border=\"1\" class=\"dataframe\">\n",
       "  <thead>\n",
       "    <tr style=\"text-align: right;\">\n",
       "      <th></th>\n",
       "      <th>date</th>\n",
       "      <th>shares</th>\n",
       "      <th>price</th>\n",
       "      <th>owner</th>\n",
       "    </tr>\n",
       "    <tr>\n",
       "      <th>name</th>\n",
       "      <th></th>\n",
       "      <th></th>\n",
       "      <th></th>\n",
       "      <th></th>\n",
       "    </tr>\n",
       "  </thead>\n",
       "  <tbody>\n",
       "    <tr>\n",
       "      <th>AA</th>\n",
       "      <td>2001-12-01</td>\n",
       "      <td>100</td>\n",
       "      <td>12.3</td>\n",
       "      <td>Unknown</td>\n",
       "    </tr>\n",
       "    <tr>\n",
       "      <th>IBM</th>\n",
       "      <td>2012-02-10</td>\n",
       "      <td>30</td>\n",
       "      <td>10.3</td>\n",
       "      <td>Unknown</td>\n",
       "    </tr>\n",
       "    <tr>\n",
       "      <th>GOOG</th>\n",
       "      <td>2010-04-09</td>\n",
       "      <td>90</td>\n",
       "      <td>32.2</td>\n",
       "      <td>Unknown</td>\n",
       "    </tr>\n",
       "  </tbody>\n",
       "</table>\n",
       "</div>"
      ],
      "text/plain": [
       "            date  shares  price    owner\n",
       "name                                    \n",
       "AA    2001-12-01     100   12.3  Unknown\n",
       "IBM   2012-02-10      30   10.3  Unknown\n",
       "GOOG  2010-04-09      90   32.2  Unknown"
      ]
     },
     "execution_count": 48,
     "metadata": {},
     "output_type": "execute_result"
    }
   ],
   "source": [
    "df= df.set_index(['name'])\n",
    "df"
   ]
  },
  {
   "cell_type": "code",
   "execution_count": 49,
   "metadata": {},
   "outputs": [
    {
     "data": {
      "text/plain": [
       "name\n",
       "AA      100\n",
       "IBM      30\n",
       "GOOG     90\n",
       "Name: shares, dtype: int64"
      ]
     },
     "execution_count": 49,
     "metadata": {},
     "output_type": "execute_result"
    }
   ],
   "source": [
    "# access data using column-index\n",
    "df['shares']\n"
   ]
  },
  {
   "cell_type": "code",
   "execution_count": 52,
   "metadata": {},
   "outputs": [],
   "source": [
    "# access data by row-index\n",
    "#df.ix['AA']\n"
   ]
  },
  {
   "cell_type": "code",
   "execution_count": null,
   "metadata": {},
   "outputs": [],
   "source": []
  },
  {
   "cell_type": "code",
   "execution_count": null,
   "metadata": {},
   "outputs": [],
   "source": []
  },
  {
   "cell_type": "code",
   "execution_count": null,
   "metadata": {},
   "outputs": [],
   "source": []
  },
  {
   "cell_type": "code",
   "execution_count": null,
   "metadata": {},
   "outputs": [],
   "source": []
  }
 ],
 "metadata": {
  "kernelspec": {
   "display_name": "Python 3.10.4 64-bit",
   "language": "python",
   "name": "python3"
  },
  "language_info": {
   "codemirror_mode": {
    "name": "ipython",
    "version": 3
   },
   "file_extension": ".py",
   "mimetype": "text/x-python",
   "name": "python",
   "nbconvert_exporter": "python",
   "pygments_lexer": "ipython3",
   "version": "3.10.4"
  },
  "orig_nbformat": 4,
  "vscode": {
   "interpreter": {
    "hash": "fb4569285eef3a3450cb62085a5b1e0da4bce0af555edc33dcf29baf3acc1368"
   }
  }
 },
 "nbformat": 4,
 "nbformat_minor": 2
}
