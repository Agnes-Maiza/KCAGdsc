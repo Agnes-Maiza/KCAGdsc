{
 "cells": [
  {
   "cell_type": "code",
   "execution_count": 1,
   "metadata": {},
   "outputs": [],
   "source": [
    "import pandas as pd\n",
    "import matplotlib.pyplot as plt\n",
    "import seaborn as sns"
   ]
  },
  {
   "cell_type": "code",
   "execution_count": 15,
   "metadata": {},
   "outputs": [
    {
     "name": "stdout",
     "output_type": "stream",
     "text": [
      "   participant_id      age   how_masculine  how_important\n",
      "5               6  18 - 34            Very       SomeWhat\n",
      "6               7  18 - 34        SomeWhat        NotVery\n",
      "7               8  18 - 34        SomeWhat       SomeWhat\n",
      "8               9  18 - 34            Very       Notatall\n",
      "9              10  18 - 34        SomeWhat       SomeWhat\n",
      "-----------------------------------------------------------\n",
      "   participant_id      age   how_masculine  how_important\n",
      "0               1  18 - 34        SomeWhat       SomeWhat\n",
      "1               2  18 - 34        SomeWhat       SomeWhat\n",
      "2               3  18 - 34            Very        NotVery\n",
      "3               4  18 - 34            Very        NotVery\n",
      "4               5  18 - 34            Very           Very\n"
     ]
    }
   ],
   "source": [
    "df = pd.read_csv(r\"C:\\Users\\user\\Desktop\\Numpy\\pythondsp-pandasguide-b936c3b43406\\data\\masculinity.csv\")\n",
    "print(df.tail())\n",
    "print(\"-----------------------------------------------------------\")\n",
    "print(df.head())"
   ]
  },
  {
   "cell_type": "code",
   "execution_count": null,
   "metadata": {},
   "outputs": [],
   "source": [
    "df = pd.read_csv(r\"C:\\Users\\user\\Desktop\\Numpy\\pythondsp-pandasguide-b936c3b43406\\data\\masculinity.csv\")\n",
    "sns.countplot(x=\"how_masculine\",data=df)\n",
    "plt.show()\n"
   ]
  },
  {
   "cell_type": "code",
   "execution_count": null,
   "metadata": {},
   "outputs": [],
   "source": [
    "sns.scatterplot(x=\"total_bill\",y=\"tip\",data=df)\n",
    "plt.show()"
   ]
  },
  {
   "cell_type": "code",
   "execution_count": null,
   "metadata": {},
   "outputs": [],
   "source": []
  },
  {
   "cell_type": "code",
   "execution_count": null,
   "metadata": {},
   "outputs": [],
   "source": []
  },
  {
   "cell_type": "code",
   "execution_count": null,
   "metadata": {},
   "outputs": [],
   "source": []
  }
 ],
 "metadata": {
  "kernelspec": {
   "display_name": "Python 3.10.4 64-bit",
   "language": "python",
   "name": "python3"
  },
  "language_info": {
   "codemirror_mode": {
    "name": "ipython",
    "version": 3
   },
   "file_extension": ".py",
   "mimetype": "text/x-python",
   "name": "python",
   "nbconvert_exporter": "python",
   "pygments_lexer": "ipython3",
   "version": "3.10.4"
  },
  "orig_nbformat": 4,
  "vscode": {
   "interpreter": {
    "hash": "fb4569285eef3a3450cb62085a5b1e0da4bce0af555edc33dcf29baf3acc1368"
   }
  }
 },
 "nbformat": 4,
 "nbformat_minor": 2
}
